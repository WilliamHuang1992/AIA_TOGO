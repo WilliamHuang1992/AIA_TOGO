{
 "cells": [
  {
   "cell_type": "markdown",
   "metadata": {},
   "source": [
    "### 資料集簡介\n",
    "<p>欄位說明:</p>\n",
    "<p>FileID: 檔案識別ID</p>\n",
    "<p>CustomerID: 使用者裝置識別ID</p>\n",
    "<p>QueryTs: 該筆資料發生時間</p>\n",
    "<p>ProductID: 使用者裝置的產品代碼</p>\n",
    "\n"
   ]
  },
  {
   "cell_type": "code",
   "execution_count": 1,
   "metadata": {
    "collapsed": true
   },
   "outputs": [],
   "source": [
    "import pandas as pd\n",
    "import numpy as np\n",
    "import matplotlib.pyplot as plt\n",
    "import os\n",
    "plt.rcParams['font.family']='SimHei' #顯示中文\n",
    "\n",
    "%matplotlib inline"
   ]
  },
  {
   "cell_type": "code",
   "execution_count": 2,
   "metadata": {
    "collapsed": true
   },
   "outputs": [],
   "source": [
    "import warnings\n",
    "warnings.filterwarnings('ignore')"
   ]
  },
  {
   "cell_type": "code",
   "execution_count": 36,
   "metadata": {
    "collapsed": true
   },
   "outputs": [],
   "source": [
    "# Load in the train datasets\n",
    "data_dir = \"/data/examples/trend/data/\"\n",
    "train = pd.read_csv(data_dir + 'training-set.csv', encoding = \"utf-8\", header=None)\n",
    "test = pd.read_csv(data_dir + 'testing-set.csv', encoding = \"utf-8\", header=None)"
   ]
  },
  {
   "cell_type": "code",
   "execution_count": 4,
   "metadata": {
    "collapsed": true
   },
   "outputs": [],
   "source": [
    "#query_log裡面被官方排除的 FileID\n",
    "train_exc = pd.read_csv(data_dir + 'exception/exception_train.txt', encoding = \"utf-8\", header=None)\n",
    "test_exc = pd.read_csv(data_dir + 'exception/exception_testing.txt', encoding = \"utf-8\", header=None)"
   ]
  },
  {
   "cell_type": "code",
   "execution_count": 5,
   "metadata": {},
   "outputs": [
    {
     "data": {
      "text/html": [
       "<div>\n",
       "<table border=\"1\" class=\"dataframe\">\n",
       "  <thead>\n",
       "    <tr style=\"text-align: right;\">\n",
       "      <th></th>\n",
       "      <th>0</th>\n",
       "    </tr>\n",
       "  </thead>\n",
       "  <tbody>\n",
       "    <tr>\n",
       "      <th>0</th>\n",
       "      <td>4eedf630f7160dafea969e5d57239d31</td>\n",
       "    </tr>\n",
       "    <tr>\n",
       "      <th>1</th>\n",
       "      <td>8e1c12f42b705cb465bab88225d03c81</td>\n",
       "    </tr>\n",
       "  </tbody>\n",
       "</table>\n",
       "</div>"
      ],
      "text/plain": [
       "                                  0\n",
       "0  4eedf630f7160dafea969e5d57239d31\n",
       "1  8e1c12f42b705cb465bab88225d03c81"
      ]
     },
     "execution_count": 5,
     "metadata": {},
     "output_type": "execute_result"
    }
   ],
   "source": [
    "test_exc.head(2)"
   ]
  },
  {
   "cell_type": "code",
   "execution_count": 38,
   "metadata": {},
   "outputs": [
    {
     "data": {
      "text/html": [
       "<div>\n",
       "<table border=\"1\" class=\"dataframe\">\n",
       "  <thead>\n",
       "    <tr style=\"text-align: right;\">\n",
       "      <th></th>\n",
       "      <th>FileID</th>\n",
       "      <th>label</th>\n",
       "    </tr>\n",
       "  </thead>\n",
       "  <tbody>\n",
       "    <tr>\n",
       "      <th>0</th>\n",
       "      <td>0000e2398b12121a85166fed5fe2a3da</td>\n",
       "      <td>0</td>\n",
       "    </tr>\n",
       "    <tr>\n",
       "      <th>1</th>\n",
       "      <td>0001fe8dce14ce099aa6ca8ea5026ea7</td>\n",
       "      <td>0</td>\n",
       "    </tr>\n",
       "  </tbody>\n",
       "</table>\n",
       "</div>"
      ],
      "text/plain": [
       "                             FileID  label\n",
       "0  0000e2398b12121a85166fed5fe2a3da      0\n",
       "1  0001fe8dce14ce099aa6ca8ea5026ea7      0"
      ]
     },
     "execution_count": 38,
     "metadata": {},
     "output_type": "execute_result"
    }
   ],
   "source": [
    "# training set - label: 0:非惡意程式, 1:惡意程式\n",
    "train.columns=['FileID','label']\n",
    "train.head(2)"
   ]
  },
  {
   "cell_type": "code",
   "execution_count": 39,
   "metadata": {},
   "outputs": [
    {
     "data": {
      "text/html": [
       "<div>\n",
       "<table border=\"1\" class=\"dataframe\">\n",
       "  <thead>\n",
       "    <tr style=\"text-align: right;\">\n",
       "      <th></th>\n",
       "      <th>FileID</th>\n",
       "      <th>AUC</th>\n",
       "    </tr>\n",
       "  </thead>\n",
       "  <tbody>\n",
       "    <tr>\n",
       "      <th>0</th>\n",
       "      <td>00008c73ee43c15b16c26b26398c1577</td>\n",
       "      <td>0.5</td>\n",
       "    </tr>\n",
       "    <tr>\n",
       "      <th>1</th>\n",
       "      <td>0002ded3a0b54f2ffdab0ca77a5ce2b6</td>\n",
       "      <td>0.5</td>\n",
       "    </tr>\n",
       "  </tbody>\n",
       "</table>\n",
       "</div>"
      ],
      "text/plain": [
       "                             FileID  AUC\n",
       "0  00008c73ee43c15b16c26b26398c1577  0.5\n",
       "1  0002ded3a0b54f2ffdab0ca77a5ce2b6  0.5"
      ]
     },
     "execution_count": 39,
     "metadata": {},
     "output_type": "execute_result"
    }
   ],
   "source": [
    "# testing set - AUC: Area Under ROC Curve\n",
    "test.columns=['FileID','AUC']\n",
    "test.head(2)"
   ]
  },
  {
   "cell_type": "code",
   "execution_count": 8,
   "metadata": {},
   "outputs": [
    {
     "data": {
      "text/html": [
       "<div>\n",
       "<table border=\"1\" class=\"dataframe\">\n",
       "  <thead>\n",
       "    <tr style=\"text-align: right;\">\n",
       "      <th></th>\n",
       "      <th>FileID</th>\n",
       "    </tr>\n",
       "  </thead>\n",
       "  <tbody>\n",
       "    <tr>\n",
       "      <th>0</th>\n",
       "      <td>4eedf630f7160dafea969e5d57239d31</td>\n",
       "    </tr>\n",
       "    <tr>\n",
       "      <th>1</th>\n",
       "      <td>8e1c12f42b705cb465bab88225d03c81</td>\n",
       "    </tr>\n",
       "  </tbody>\n",
       "</table>\n",
       "</div>"
      ],
      "text/plain": [
       "                             FileID\n",
       "0  4eedf630f7160dafea969e5d57239d31\n",
       "1  8e1c12f42b705cb465bab88225d03c81"
      ]
     },
     "execution_count": 8,
     "metadata": {},
     "output_type": "execute_result"
    }
   ],
   "source": [
    "train_exc.columns = ['FileID']\n",
    "test_exc.columns = ['FileID']\n",
    "train_exc.head(2)\n",
    "test_exc.head(2)"
   ]
  },
  {
   "cell_type": "code",
   "execution_count": 9,
   "metadata": {},
   "outputs": [
    {
     "name": "stdout",
     "output_type": "stream",
     "text": [
      "Empty DataFrame\n",
      "Columns: [FileID, label]\n",
      "Index: []\n"
     ]
    }
   ],
   "source": [
    "#確認排除的FileID在training set裡面找不到\n",
    "for item in train_exc:\n",
    "    print(train[train['FileID']==item])"
   ]
  },
  {
   "cell_type": "code",
   "execution_count": 10,
   "metadata": {
    "collapsed": true
   },
   "outputs": [],
   "source": [
    "#取0301當天的query log來查看\n",
    "log_files = os.listdir(data_dir+\"query_log\")\n",
    "query_logs = []\n",
    "for log_file in log_files:\n",
    "    query_log = pd.read_csv(data_dir + 'query_log/' + log_file, encoding = \"utf-8\", header=None)\n",
    "    query_log.columns=['FileID','CustomerID','QueryTs','ProductID']\n",
    "    query_log['times'] = 1\n",
    "    query_logs.append(query_log)"
   ]
  },
  {
   "cell_type": "code",
   "execution_count": 11,
   "metadata": {},
   "outputs": [],
   "source": [
    "querys = pd.concat(query_logs)"
   ]
  },
  {
   "cell_type": "code",
   "execution_count": 12,
   "metadata": {},
   "outputs": [],
   "source": [
    "querys = querys.sort_values(by=['FileID','CustomerID','ProductID','QueryTs'])"
   ]
  },
  {
   "cell_type": "code",
   "execution_count": 13,
   "metadata": {},
   "outputs": [],
   "source": [
    "file_product_mean = querys.groupby([\"FileID\", \"ProductID\"])[\"QueryTs\"].mean()\n",
    "file_product_std = querys.groupby([\"FileID\", \"ProductID\"])[\"QueryTs\"].std()"
   ]
  },
  {
   "cell_type": "code",
   "execution_count": 16,
   "metadata": {},
   "outputs": [
    {
     "data": {
      "text/html": [
       "<div>\n",
       "<table border=\"1\" class=\"dataframe\">\n",
       "  <thead>\n",
       "    <tr style=\"text-align: right;\">\n",
       "      <th></th>\n",
       "      <th>FileID</th>\n",
       "      <th>CustomerID</th>\n",
       "      <th>QueryTs</th>\n",
       "      <th>ProductID</th>\n",
       "      <th>times</th>\n",
       "    </tr>\n",
       "  </thead>\n",
       "  <tbody>\n",
       "    <tr>\n",
       "      <th>229005</th>\n",
       "      <td>00008c73ee43c15b16c26b26398c1577</td>\n",
       "      <td>033e91e730e176cd2ac81dc48a8f5088</td>\n",
       "      <td>1494828718</td>\n",
       "      <td>7acab3</td>\n",
       "      <td>1</td>\n",
       "    </tr>\n",
       "    <tr>\n",
       "      <th>442077</th>\n",
       "      <td>00008c73ee43c15b16c26b26398c1577</td>\n",
       "      <td>033e91e730e176cd2ac81dc48a8f5088</td>\n",
       "      <td>1494860581</td>\n",
       "      <td>7acab3</td>\n",
       "      <td>1</td>\n",
       "    </tr>\n",
       "  </tbody>\n",
       "</table>\n",
       "</div>"
      ],
      "text/plain": [
       "                                  FileID                        CustomerID  \\\n",
       "229005  00008c73ee43c15b16c26b26398c1577  033e91e730e176cd2ac81dc48a8f5088   \n",
       "442077  00008c73ee43c15b16c26b26398c1577  033e91e730e176cd2ac81dc48a8f5088   \n",
       "\n",
       "           QueryTs ProductID  times  \n",
       "229005  1494828718    7acab3      1  \n",
       "442077  1494860581    7acab3      1  "
      ]
     },
     "execution_count": 16,
     "metadata": {},
     "output_type": "execute_result"
    }
   ],
   "source": [
    "querys.head(2)"
   ]
  },
  {
   "cell_type": "code",
   "execution_count": 18,
   "metadata": {},
   "outputs": [
    {
     "data": {
      "text/html": [
       "<div>\n",
       "<table border=\"1\" class=\"dataframe\">\n",
       "  <thead>\n",
       "    <tr style=\"text-align: right;\">\n",
       "      <th></th>\n",
       "      <th>QueryTs</th>\n",
       "      <th>times</th>\n",
       "    </tr>\n",
       "  </thead>\n",
       "  <tbody>\n",
       "    <tr>\n",
       "      <th>count</th>\n",
       "      <td>8.327311e+07</td>\n",
       "      <td>83273110.0</td>\n",
       "    </tr>\n",
       "    <tr>\n",
       "      <th>mean</th>\n",
       "      <td>1.492394e+09</td>\n",
       "      <td>1.0</td>\n",
       "    </tr>\n",
       "    <tr>\n",
       "      <th>std</th>\n",
       "      <td>2.138802e+06</td>\n",
       "      <td>0.0</td>\n",
       "    </tr>\n",
       "    <tr>\n",
       "      <th>min</th>\n",
       "      <td>1.488326e+09</td>\n",
       "      <td>1.0</td>\n",
       "    </tr>\n",
       "    <tr>\n",
       "      <th>25%</th>\n",
       "      <td>1.490234e+09</td>\n",
       "      <td>1.0</td>\n",
       "    </tr>\n",
       "    <tr>\n",
       "      <th>50%</th>\n",
       "      <td>1.492291e+09</td>\n",
       "      <td>1.0</td>\n",
       "    </tr>\n",
       "    <tr>\n",
       "      <th>75%</th>\n",
       "      <td>1.494531e+09</td>\n",
       "      <td>1.0</td>\n",
       "    </tr>\n",
       "    <tr>\n",
       "      <th>max</th>\n",
       "      <td>1.496275e+09</td>\n",
       "      <td>1.0</td>\n",
       "    </tr>\n",
       "  </tbody>\n",
       "</table>\n",
       "</div>"
      ],
      "text/plain": [
       "            QueryTs       times\n",
       "count  8.327311e+07  83273110.0\n",
       "mean   1.492394e+09         1.0\n",
       "std    2.138802e+06         0.0\n",
       "min    1.488326e+09         1.0\n",
       "25%    1.490234e+09         1.0\n",
       "50%    1.492291e+09         1.0\n",
       "75%    1.494531e+09         1.0\n",
       "max    1.496275e+09         1.0"
      ]
     },
     "execution_count": 18,
     "metadata": {},
     "output_type": "execute_result"
    }
   ],
   "source": [
    "querys.describe()"
   ]
  },
  {
   "cell_type": "code",
   "execution_count": 19,
   "metadata": {},
   "outputs": [
    {
     "name": "stdout",
     "output_type": "stream",
     "text": [
      "<class 'pandas.core.frame.DataFrame'>\n",
      "Int64Index: 83273110 entries, 229005 to 47818\n",
      "Data columns (total 5 columns):\n",
      "FileID        object\n",
      "CustomerID    object\n",
      "QueryTs       int64\n",
      "ProductID     object\n",
      "times         int64\n",
      "dtypes: int64(2), object(3)\n",
      "memory usage: 20.2 GB\n"
     ]
    }
   ],
   "source": [
    "querys.info(memory_usage='deep')"
   ]
  },
  {
   "cell_type": "markdown",
   "metadata": {},
   "source": [
    "### 探索式資料分析"
   ]
  },
  {
   "cell_type": "code",
   "execution_count": 20,
   "metadata": {},
   "outputs": [
    {
     "data": {
      "text/plain": [
       "Index(['FileID', 'CustomerID', 'QueryTs', 'ProductID', 'times'], dtype='object')"
      ]
     },
     "execution_count": 20,
     "metadata": {},
     "output_type": "execute_result"
    }
   ],
   "source": [
    "querys.columns"
   ]
  },
  {
   "cell_type": "code",
   "execution_count": 21,
   "metadata": {},
   "outputs": [
    {
     "data": {
      "text/plain": [
       "5539312"
      ]
     },
     "execution_count": 21,
     "metadata": {},
     "output_type": "execute_result"
    }
   ],
   "source": [
    "len(list(set(querys[\"CustomerID\"])))"
   ]
  },
  {
   "cell_type": "code",
   "execution_count": 22,
   "metadata": {},
   "outputs": [
    {
     "data": {
      "text/plain": [
       "32"
      ]
     },
     "execution_count": 22,
     "metadata": {},
     "output_type": "execute_result"
    }
   ],
   "source": [
    "len(list(set(querys[\"ProductID\"])))"
   ]
  },
  {
   "cell_type": "markdown",
   "metadata": {},
   "source": [
    "### 樞杻分析"
   ]
  },
  {
   "cell_type": "code",
   "execution_count": 23,
   "metadata": {},
   "outputs": [],
   "source": [
    "query_pivot_productid = querys.pivot_table(values='times',index=['FileID'],columns='ProductID',aggfunc='sum')\n",
    "# query_pivot_customerid = querys.pivot_table(values='times',index=['FileID'],columns='CustomerID',aggfunc='sum')"
   ]
  },
  {
   "cell_type": "code",
   "execution_count": 41,
   "metadata": {},
   "outputs": [
    {
     "data": {
      "text/plain": [
       "Index(['FileID', 'AUC'], dtype='object')"
      ]
     },
     "execution_count": 41,
     "metadata": {},
     "output_type": "execute_result"
    }
   ],
   "source": [
    "test.columns"
   ]
  },
  {
   "cell_type": "code",
   "execution_count": 42,
   "metadata": {},
   "outputs": [],
   "source": [
    "train_query_pivot_productid = query_pivot_productid.ix[train[\"FileID\"]]\n",
    "test_query_pivot_productid = query_pivot_productid.ix[test[\"FileID\"]]\n",
    "train_query_pivot_productid = train_query_pivot_productid.fillna(0)\n",
    "test_query_pivot_productid = test_query_pivot_productid.fillna(0)"
   ]
  },
  {
   "cell_type": "markdown",
   "metadata": {},
   "source": [
    "## 額外 features"
   ]
  },
  {
   "cell_type": "code",
   "execution_count": 43,
   "metadata": {},
   "outputs": [],
   "source": [
    "querys[\"Day\"] = querys[\"QueryTs\"] // (3600 * 24)"
   ]
  },
  {
   "cell_type": "code",
   "execution_count": 44,
   "metadata": {},
   "outputs": [],
   "source": [
    "df_FileID_Day = querys.pivot_table(values='times', index='FileID', columns='Day', aggfunc='sum')\n",
    "df_FileID_Day = df_FileID_Day.fillna(0)\n",
    "\n",
    "# FileID vs Day 的各種 features\n",
    "df_FileID_Day_features = pd.DataFrame(columns=['Total(Day)', 'Max(Day)', 'Min(Day)', 'Mean(Day)', 'Mean(Nonzero Day)', 'Std(Day)'])\n",
    "df_FileID_Day_features['Total(Day)'] = df_FileID_Day.sum(axis=1)\n",
    "df_FileID_Day_features['Max(Day)'] = df_FileID_Day.max(axis=1)\n",
    "df_FileID_Day_features['Min(Day)'] = df_FileID_Day.min(axis=1)\n",
    "df_FileID_Day_features['Mean(Day)'] = df_FileID_Day.mean(axis=1)\n",
    "df_FileID_Day_features['Mean(Nonzero Day)'] = df_FileID_Day_features['Total(Day)'] / (df_FileID_Day > 0).sum(axis=1)\n",
    "df_FileID_Day_features['Std(Day)'] = df_FileID_Day.std(axis=1)\n",
    "df_FileID_Day_features['Std(Nonzero Day)'] = (df_FileID_Day[df_FileID_Day > 0]).std(axis=1)\n",
    "df_FileID_Day_features = df_FileID_Day_features.fillna(0)\n",
    "\n",
    "# FileID vs Product 的各種 features\n",
    "df_FileID_ProductID = querys.pivot_table(values='times', index='FileID', columns='ProductID', aggfunc='sum')\n",
    "df_FileID_ProductID = df_FileID_ProductID.fillna(0)\n",
    "df_FileID_ProductID_features = pd.DataFrame(columns=['Total(ProductID)', 'Max(ProductID)', 'Min(ProductID)', 'Mean(ProductID)', 'Std(ProductID)'])\n",
    "df_FileID_ProductID_features['Total(ProductID)'] = df_FileID_ProductID.sum(axis=1)\n",
    "df_FileID_ProductID_features['Max(ProductID)'] = df_FileID_ProductID.max(axis=1)\n",
    "df_FileID_ProductID_features['Min(ProductID)'] = df_FileID_ProductID.min(axis=1)\n",
    "df_FileID_ProductID_features['Mean(ProductID)'] = df_FileID_ProductID.mean(axis=1)\n",
    "df_FileID_ProductID_features['Std(ProductID)'] = df_FileID_ProductID.std(axis=1)\n",
    "df_FileID_ProductID_features = df_FileID_ProductID_features.fillna(0)"
   ]
  },
  {
   "cell_type": "code",
   "execution_count": 45,
   "metadata": {},
   "outputs": [],
   "source": [
    "train_df = train_query_pivot_productid.join(df_FileID_Day_features)\n",
    "train_df = train_df.join(df_FileID_ProductID_features)\n",
    "test_df = test_query_pivot_productid.join(df_FileID_Day_features)\n",
    "test_df = test_df.join(df_FileID_ProductID_features)"
   ]
  },
  {
   "cell_type": "markdown",
   "metadata": {},
   "source": [
    "## 基本前處理"
   ]
  },
  {
   "cell_type": "markdown",
   "metadata": {},
   "source": [
    "### 正規化, 標準縮放"
   ]
  },
  {
   "cell_type": "code",
   "execution_count": 46,
   "metadata": {},
   "outputs": [],
   "source": [
    "# from sklearn.preprocessing import StandardScaler\n",
    "from sklearn.preprocessing import Normalizer"
   ]
  },
  {
   "cell_type": "code",
   "execution_count": 47,
   "metadata": {},
   "outputs": [],
   "source": [
    "# ss = StandardScaler()\n",
    "train_standard = ss.fit_transform(train_query_pivot_productid)\n",
    "test_standard = ss.transform(test_query_pivot_productid)\n",
    "# nl = Normalizer()\n",
    "# train_norm = nl.fit_transform(train_df)\n",
    "# test_norm = nl.transform(test_df)"
   ]
  },
  {
   "cell_type": "code",
   "execution_count": 49,
   "metadata": {},
   "outputs": [],
   "source": [
    "from sklearn.linear_model import ElasticNet, Lasso,  BayesianRidge, LassoLarsIC\n",
    "from sklearn.ensemble import RandomForestClassifier,GradientBoostingClassifier\n",
    "from sklearn.kernel_ridge import KernelRidge\n",
    "from sklearn.pipeline import make_pipeline\n",
    "from sklearn.preprocessing import RobustScaler\n",
    "from sklearn.base import BaseEstimator, TransformerMixin, RegressorMixin, clone\n",
    "from sklearn.model_selection import KFold, cross_val_score, train_test_split\n",
    "from sklearn.metrics import mean_squared_error, roc_auc_score\n",
    "from sklearn.linear_model import LogisticRegression, RidgeClassifier\n",
    "import xgboost as xgb"
   ]
  },
  {
   "cell_type": "markdown",
   "metadata": {},
   "source": [
    "### Ensembling"
   ]
  },
  {
   "cell_type": "code",
   "execution_count": 50,
   "metadata": {},
   "outputs": [],
   "source": [
    "class AveragingModels(BaseEstimator, RegressorMixin, TransformerMixin):\n",
    "    def __init__(self, models):\n",
    "        self.models = models\n",
    "        \n",
    "    # we define clones of the original models to fit the data in\n",
    "    def fit(self, X, y):\n",
    "        self.models_ = [clone(x) for x in self.models]\n",
    "        \n",
    "        # Train cloned base models\n",
    "        for model in self.models_:\n",
    "            model.fit(X, y)\n",
    "\n",
    "        return self\n",
    "    \n",
    "    #Now we do the predictions for cloned models and average them\n",
    "    def predict(self, X):\n",
    "        predictions = np.column_stack([\n",
    "            model.predict(X) for model in self.models_\n",
    "        ])\n",
    "        return np.mean(predictions, axis=1) \n",
    "    #Now we do the predictions for cloned models and average them\n",
    "    def predict_proba(self, X):\n",
    "        probs = np.mean([ model.predict_proba(X) for model in self.models_ ], axis=0)\n",
    "        return probs"
   ]
  },
  {
   "cell_type": "markdown",
   "metadata": {},
   "source": [
    "### Validation Evaluation"
   ]
  },
  {
   "cell_type": "code",
   "execution_count": 124,
   "metadata": {},
   "outputs": [],
   "source": [
    "train_shuffled_indices = np.arange(train_norm.shape[0])\n",
    "np.random.shuffle(train_shuffled_indices)\n",
    "y = train['label'].values\n",
    "valid_ratio = 0.1\n",
    "split_index = int(len(train_shuffled_indices)*(1- valid_ratio))\n",
    "\n",
    "X_train = train_norm[train_shuffled_indices[0:split_index]]\n",
    "X_valid = train_norm[train_shuffled_indices[split_index: len(train_shuffled_indices)]]\n",
    "y_train = y[train_shuffled_indices[0:split_index]]\n",
    "y_valid = y[train_shuffled_indices[split_index: len(train_shuffled_indices)]]"
   ]
  },
  {
   "cell_type": "code",
   "execution_count": 187,
   "metadata": {},
   "outputs": [],
   "source": [
    "Logit = LogisticRegression(\n",
    "    penalty='l2', dual=False, tol=0.0001, C=1.0, fit_intercept=True,\n",
    "    intercept_scaling=1, class_weight=None, random_state=None, solver='liblinear',\n",
    "    max_iter=1000, multi_class='ovr', verbose=1, warm_start=False, n_jobs=1\n",
    ")\n",
    "GBoost = GradientBoostingClassifier(\n",
    "    n_estimators=4000, learning_rate=0.05, max_depth=5, max_features='sqrt',\n",
    "    min_samples_leaf=15, min_samples_split=10, loss='deviance', random_state =5, verbose=1\n",
    ")\n",
    "RandomForest = RandomForestClassifier(\n",
    "    n_estimators=10, criterion=\"gini\", max_depth=4, min_samples_split=1.0, min_samples_leaf=2,\n",
    "    min_weight_fraction_leaf=0.0, max_features=\"auto\", max_leaf_nodes=None, min_impurity_decrease=0.0,\n",
    "    min_impurity_split=None, bootstrap=True, oob_score=False, n_jobs=1, random_state=None, verbose=1, warm_start=False,\n",
    "    class_weight=\"balanced\"\n",
    ")\n",
    "XGB = xgb.XGBClassifier(\n",
    "    max_depth=5,learning_rate=0.1, n_estimators=1500, silent=False, objective='binary:logistic', booster='gbtree', \n",
    "    n_jobs=4, nthread=None, gamma=0, min_child_weight=1, max_delta_step=0, subsample=1, colsample_bytree=1, \n",
    "    colsample_bylevel=1, reg_alpha=0.0, reg_lambda=1.2, scale_pos_weight=1, verbose_eval=True\n",
    ")"
   ]
  },
  {
   "cell_type": "code",
   "execution_count": 188,
   "metadata": {},
   "outputs": [],
   "source": [
    "# averaged_models = AveragingModels(models = (Logit, GBoost, RandomForest))\n",
    "# averaged_models.fit(X_train, y_train)"
   ]
  },
  {
   "cell_type": "code",
   "execution_count": 189,
   "metadata": {},
   "outputs": [],
   "source": [
    "# y_valid_score = averaged_models.predict_proba(X_valid)"
   ]
  },
  {
   "cell_type": "code",
   "execution_count": 183,
   "metadata": {},
   "outputs": [],
   "source": [
    "# RandomForest.fit(X_train, y_train)\n",
    "# y_valid_score = RandomForest.predict_proba(X_valid)"
   ]
  },
  {
   "cell_type": "code",
   "execution_count": 190,
   "metadata": {},
   "outputs": [
    {
     "name": "stdout",
     "output_type": "stream",
     "text": [
      "[0]\tvalidation_0-auc:0.835247\n",
      "Will train until validation_0-auc hasn't improved in 100 rounds.\n",
      "[1]\tvalidation_0-auc:0.85069\n",
      "[2]\tvalidation_0-auc:0.848733\n",
      "[3]\tvalidation_0-auc:0.854218\n",
      "[4]\tvalidation_0-auc:0.852601\n",
      "[5]\tvalidation_0-auc:0.856432\n",
      "[6]\tvalidation_0-auc:0.859208\n",
      "[7]\tvalidation_0-auc:0.862925\n",
      "[8]\tvalidation_0-auc:0.864324\n",
      "[9]\tvalidation_0-auc:0.865823\n",
      "[10]\tvalidation_0-auc:0.867302\n",
      "[11]\tvalidation_0-auc:0.86774\n",
      "[12]\tvalidation_0-auc:0.86844\n",
      "[13]\tvalidation_0-auc:0.869616\n",
      "[14]\tvalidation_0-auc:0.871599\n",
      "[15]\tvalidation_0-auc:0.873342\n",
      "[16]\tvalidation_0-auc:0.873235\n",
      "[17]\tvalidation_0-auc:0.873775\n",
      "[18]\tvalidation_0-auc:0.874545\n",
      "[19]\tvalidation_0-auc:0.874647\n",
      "[20]\tvalidation_0-auc:0.87665\n",
      "[21]\tvalidation_0-auc:0.877948\n",
      "[22]\tvalidation_0-auc:0.878887\n",
      "[23]\tvalidation_0-auc:0.880377\n",
      "[24]\tvalidation_0-auc:0.880635\n",
      "[25]\tvalidation_0-auc:0.881581\n",
      "[26]\tvalidation_0-auc:0.883202\n",
      "[27]\tvalidation_0-auc:0.883537\n",
      "[28]\tvalidation_0-auc:0.884649\n",
      "[29]\tvalidation_0-auc:0.885132\n",
      "[30]\tvalidation_0-auc:0.885327\n",
      "[31]\tvalidation_0-auc:0.886023\n",
      "[32]\tvalidation_0-auc:0.886534\n",
      "[33]\tvalidation_0-auc:0.886635\n",
      "[34]\tvalidation_0-auc:0.888049\n",
      "[35]\tvalidation_0-auc:0.888016\n",
      "[36]\tvalidation_0-auc:0.888927\n",
      "[37]\tvalidation_0-auc:0.889248\n",
      "[38]\tvalidation_0-auc:0.890136\n",
      "[39]\tvalidation_0-auc:0.890643\n",
      "[40]\tvalidation_0-auc:0.890591\n",
      "[41]\tvalidation_0-auc:0.891007\n",
      "[42]\tvalidation_0-auc:0.891465\n",
      "[43]\tvalidation_0-auc:0.891815\n",
      "[44]\tvalidation_0-auc:0.892518\n",
      "[45]\tvalidation_0-auc:0.892739\n",
      "[46]\tvalidation_0-auc:0.893104\n",
      "[47]\tvalidation_0-auc:0.893169\n",
      "[48]\tvalidation_0-auc:0.893791\n",
      "[49]\tvalidation_0-auc:0.893952\n",
      "[50]\tvalidation_0-auc:0.894243\n",
      "[51]\tvalidation_0-auc:0.894301\n",
      "[52]\tvalidation_0-auc:0.895028\n",
      "[53]\tvalidation_0-auc:0.895049\n",
      "[54]\tvalidation_0-auc:0.895133\n",
      "[55]\tvalidation_0-auc:0.895754\n",
      "[56]\tvalidation_0-auc:0.895811\n",
      "[57]\tvalidation_0-auc:0.895819\n",
      "[58]\tvalidation_0-auc:0.89614\n",
      "[59]\tvalidation_0-auc:0.896246\n",
      "[60]\tvalidation_0-auc:0.896408\n",
      "[61]\tvalidation_0-auc:0.896381\n",
      "[62]\tvalidation_0-auc:0.896435\n",
      "[63]\tvalidation_0-auc:0.896464\n",
      "[64]\tvalidation_0-auc:0.897195\n",
      "[65]\tvalidation_0-auc:0.897375\n",
      "[66]\tvalidation_0-auc:0.897373\n",
      "[67]\tvalidation_0-auc:0.897422\n",
      "[68]\tvalidation_0-auc:0.897433\n",
      "[69]\tvalidation_0-auc:0.89744\n",
      "[70]\tvalidation_0-auc:0.897514\n",
      "[71]\tvalidation_0-auc:0.897569\n",
      "[72]\tvalidation_0-auc:0.897673\n",
      "[73]\tvalidation_0-auc:0.897701\n",
      "[74]\tvalidation_0-auc:0.897708\n",
      "[75]\tvalidation_0-auc:0.897743\n",
      "[76]\tvalidation_0-auc:0.897764\n",
      "[77]\tvalidation_0-auc:0.897725\n",
      "[78]\tvalidation_0-auc:0.89772\n",
      "[79]\tvalidation_0-auc:0.898279\n",
      "[80]\tvalidation_0-auc:0.898447\n",
      "[81]\tvalidation_0-auc:0.898476\n",
      "[82]\tvalidation_0-auc:0.898818\n",
      "[83]\tvalidation_0-auc:0.89887\n",
      "[84]\tvalidation_0-auc:0.898871\n",
      "[85]\tvalidation_0-auc:0.898898\n",
      "[86]\tvalidation_0-auc:0.898978\n",
      "[87]\tvalidation_0-auc:0.899273\n",
      "[88]\tvalidation_0-auc:0.899264\n",
      "[89]\tvalidation_0-auc:0.899354\n",
      "[90]\tvalidation_0-auc:0.899397\n",
      "[91]\tvalidation_0-auc:0.899495\n",
      "[92]\tvalidation_0-auc:0.899722\n",
      "[93]\tvalidation_0-auc:0.899737\n",
      "[94]\tvalidation_0-auc:0.899768\n",
      "[95]\tvalidation_0-auc:0.899819\n",
      "[96]\tvalidation_0-auc:0.899885\n",
      "[97]\tvalidation_0-auc:0.90011\n",
      "[98]\tvalidation_0-auc:0.900592\n",
      "[99]\tvalidation_0-auc:0.900625\n",
      "[100]\tvalidation_0-auc:0.900689\n",
      "[101]\tvalidation_0-auc:0.900658\n",
      "[102]\tvalidation_0-auc:0.900627\n",
      "[103]\tvalidation_0-auc:0.900658\n",
      "[104]\tvalidation_0-auc:0.900827\n",
      "[105]\tvalidation_0-auc:0.900898\n",
      "[106]\tvalidation_0-auc:0.900833\n",
      "[107]\tvalidation_0-auc:0.90085\n",
      "[108]\tvalidation_0-auc:0.900963\n",
      "[109]\tvalidation_0-auc:0.901007\n",
      "[110]\tvalidation_0-auc:0.900998\n",
      "[111]\tvalidation_0-auc:0.900989\n",
      "[112]\tvalidation_0-auc:0.901077\n",
      "[113]\tvalidation_0-auc:0.901194\n",
      "[114]\tvalidation_0-auc:0.901239\n",
      "[115]\tvalidation_0-auc:0.901252\n",
      "[116]\tvalidation_0-auc:0.901251\n",
      "[117]\tvalidation_0-auc:0.901295\n",
      "[118]\tvalidation_0-auc:0.901483\n",
      "[119]\tvalidation_0-auc:0.90151\n",
      "[120]\tvalidation_0-auc:0.901516\n",
      "[121]\tvalidation_0-auc:0.90151\n",
      "[122]\tvalidation_0-auc:0.901647\n",
      "[123]\tvalidation_0-auc:0.90166\n",
      "[124]\tvalidation_0-auc:0.901708\n",
      "[125]\tvalidation_0-auc:0.901727\n",
      "[126]\tvalidation_0-auc:0.901755\n",
      "[127]\tvalidation_0-auc:0.901772\n",
      "[128]\tvalidation_0-auc:0.901988\n",
      "[129]\tvalidation_0-auc:0.901992\n",
      "[130]\tvalidation_0-auc:0.901909\n",
      "[131]\tvalidation_0-auc:0.901909\n",
      "[132]\tvalidation_0-auc:0.901933\n",
      "[133]\tvalidation_0-auc:0.901937\n",
      "[134]\tvalidation_0-auc:0.902006\n",
      "[135]\tvalidation_0-auc:0.902092\n",
      "[136]\tvalidation_0-auc:0.902823\n",
      "[137]\tvalidation_0-auc:0.902894\n",
      "[138]\tvalidation_0-auc:0.902909\n",
      "[139]\tvalidation_0-auc:0.902998\n",
      "[140]\tvalidation_0-auc:0.903073\n",
      "[141]\tvalidation_0-auc:0.903149\n",
      "[142]\tvalidation_0-auc:0.903123\n",
      "[143]\tvalidation_0-auc:0.90316\n",
      "[144]\tvalidation_0-auc:0.90319\n",
      "[145]\tvalidation_0-auc:0.90314\n",
      "[146]\tvalidation_0-auc:0.903107\n",
      "[147]\tvalidation_0-auc:0.903288\n",
      "[148]\tvalidation_0-auc:0.903566\n",
      "[149]\tvalidation_0-auc:0.903615\n",
      "[150]\tvalidation_0-auc:0.90362\n",
      "[151]\tvalidation_0-auc:0.903522\n",
      "[152]\tvalidation_0-auc:0.903755\n",
      "[153]\tvalidation_0-auc:0.903767\n",
      "[154]\tvalidation_0-auc:0.903795\n",
      "[155]\tvalidation_0-auc:0.903794\n",
      "[156]\tvalidation_0-auc:0.903743\n",
      "[157]\tvalidation_0-auc:0.903878\n",
      "[158]\tvalidation_0-auc:0.903891\n",
      "[159]\tvalidation_0-auc:0.903945\n",
      "[160]\tvalidation_0-auc:0.904141\n",
      "[161]\tvalidation_0-auc:0.90416\n",
      "[162]\tvalidation_0-auc:0.904172\n",
      "[163]\tvalidation_0-auc:0.904213\n",
      "[164]\tvalidation_0-auc:0.904145\n",
      "[165]\tvalidation_0-auc:0.904176\n",
      "[166]\tvalidation_0-auc:0.904098\n",
      "[167]\tvalidation_0-auc:0.904124\n",
      "[168]\tvalidation_0-auc:0.904131\n",
      "[169]\tvalidation_0-auc:0.904343\n",
      "[170]\tvalidation_0-auc:0.904448\n",
      "[171]\tvalidation_0-auc:0.904436\n",
      "[172]\tvalidation_0-auc:0.904444\n",
      "[173]\tvalidation_0-auc:0.90444\n",
      "[174]\tvalidation_0-auc:0.904462\n",
      "[175]\tvalidation_0-auc:0.904602\n",
      "[176]\tvalidation_0-auc:0.904603\n",
      "[177]\tvalidation_0-auc:0.904661\n",
      "[178]\tvalidation_0-auc:0.904681\n",
      "[179]\tvalidation_0-auc:0.904637\n",
      "[180]\tvalidation_0-auc:0.90469\n",
      "[181]\tvalidation_0-auc:0.904694\n",
      "[182]\tvalidation_0-auc:0.904606\n",
      "[183]\tvalidation_0-auc:0.904582\n",
      "[184]\tvalidation_0-auc:0.904682\n",
      "[185]\tvalidation_0-auc:0.904695\n",
      "[186]\tvalidation_0-auc:0.904699\n",
      "[187]\tvalidation_0-auc:0.904667\n",
      "[188]\tvalidation_0-auc:0.904686\n",
      "[189]\tvalidation_0-auc:0.904869\n",
      "[190]\tvalidation_0-auc:0.904902\n",
      "[191]\tvalidation_0-auc:0.904914\n",
      "[192]\tvalidation_0-auc:0.904984\n",
      "[193]\tvalidation_0-auc:0.90505\n",
      "[194]\tvalidation_0-auc:0.905332\n",
      "[195]\tvalidation_0-auc:0.905364\n",
      "[196]\tvalidation_0-auc:0.905411\n",
      "[197]\tvalidation_0-auc:0.905376\n",
      "[198]\tvalidation_0-auc:0.905359\n",
      "[199]\tvalidation_0-auc:0.905409\n",
      "[200]\tvalidation_0-auc:0.905402\n",
      "[201]\tvalidation_0-auc:0.905402\n",
      "[202]\tvalidation_0-auc:0.905407\n",
      "[203]\tvalidation_0-auc:0.905333\n",
      "[204]\tvalidation_0-auc:0.905319\n",
      "[205]\tvalidation_0-auc:0.905327\n",
      "[206]\tvalidation_0-auc:0.905341\n",
      "[207]\tvalidation_0-auc:0.905232\n",
      "[208]\tvalidation_0-auc:0.905212\n",
      "[209]\tvalidation_0-auc:0.905247\n",
      "[210]\tvalidation_0-auc:0.905213\n",
      "[211]\tvalidation_0-auc:0.905161\n",
      "[212]\tvalidation_0-auc:0.905145\n",
      "[213]\tvalidation_0-auc:0.905007\n",
      "[214]\tvalidation_0-auc:0.904954\n",
      "[215]\tvalidation_0-auc:0.904804\n",
      "[216]\tvalidation_0-auc:0.904915\n",
      "[217]\tvalidation_0-auc:0.904893\n",
      "[218]\tvalidation_0-auc:0.90487\n",
      "[219]\tvalidation_0-auc:0.90482\n",
      "[220]\tvalidation_0-auc:0.90487\n",
      "[221]\tvalidation_0-auc:0.904883\n",
      "[222]\tvalidation_0-auc:0.904944\n",
      "[223]\tvalidation_0-auc:0.904977\n",
      "[224]\tvalidation_0-auc:0.905043\n",
      "[225]\tvalidation_0-auc:0.905229\n",
      "[226]\tvalidation_0-auc:0.905384\n",
      "[227]\tvalidation_0-auc:0.905402\n",
      "[228]\tvalidation_0-auc:0.905333\n",
      "[229]\tvalidation_0-auc:0.905389\n",
      "[230]\tvalidation_0-auc:0.905424\n",
      "[231]\tvalidation_0-auc:0.905564\n",
      "[232]\tvalidation_0-auc:0.905546\n",
      "[233]\tvalidation_0-auc:0.90556\n",
      "[234]\tvalidation_0-auc:0.905605\n",
      "[235]\tvalidation_0-auc:0.905699\n",
      "[236]\tvalidation_0-auc:0.905707\n",
      "[237]\tvalidation_0-auc:0.905649\n",
      "[238]\tvalidation_0-auc:0.905654\n",
      "[239]\tvalidation_0-auc:0.905707\n",
      "[240]\tvalidation_0-auc:0.905819\n",
      "[241]\tvalidation_0-auc:0.905753\n",
      "[242]\tvalidation_0-auc:0.905742\n",
      "[243]\tvalidation_0-auc:0.90571\n",
      "[244]\tvalidation_0-auc:0.905659\n",
      "[245]\tvalidation_0-auc:0.905653\n",
      "[246]\tvalidation_0-auc:0.905699\n",
      "[247]\tvalidation_0-auc:0.905927\n",
      "[248]\tvalidation_0-auc:0.905919\n",
      "[249]\tvalidation_0-auc:0.906002\n",
      "[250]\tvalidation_0-auc:0.90602\n",
      "[251]\tvalidation_0-auc:0.905959\n",
      "[252]\tvalidation_0-auc:0.90598\n",
      "[253]\tvalidation_0-auc:0.905971\n",
      "[254]\tvalidation_0-auc:0.905986\n",
      "[255]\tvalidation_0-auc:0.906038\n",
      "[256]\tvalidation_0-auc:0.906042\n",
      "[257]\tvalidation_0-auc:0.906083\n",
      "[258]\tvalidation_0-auc:0.906076\n",
      "[259]\tvalidation_0-auc:0.906195\n",
      "[260]\tvalidation_0-auc:0.906192\n",
      "[261]\tvalidation_0-auc:0.906259\n",
      "[262]\tvalidation_0-auc:0.90627\n",
      "[263]\tvalidation_0-auc:0.906341\n",
      "[264]\tvalidation_0-auc:0.906303\n",
      "[265]\tvalidation_0-auc:0.906332\n",
      "[266]\tvalidation_0-auc:0.906334\n",
      "[267]\tvalidation_0-auc:0.906363\n",
      "[268]\tvalidation_0-auc:0.906261\n",
      "[269]\tvalidation_0-auc:0.906272\n",
      "[270]\tvalidation_0-auc:0.906352\n",
      "[271]\tvalidation_0-auc:0.906359\n",
      "[272]\tvalidation_0-auc:0.906539\n",
      "[273]\tvalidation_0-auc:0.906809\n",
      "[274]\tvalidation_0-auc:0.906797\n",
      "[275]\tvalidation_0-auc:0.90684\n",
      "[276]\tvalidation_0-auc:0.906857\n",
      "[277]\tvalidation_0-auc:0.90692\n",
      "[278]\tvalidation_0-auc:0.906841\n",
      "[279]\tvalidation_0-auc:0.906778\n",
      "[280]\tvalidation_0-auc:0.906841\n",
      "[281]\tvalidation_0-auc:0.906984\n",
      "[282]\tvalidation_0-auc:0.907005\n",
      "[283]\tvalidation_0-auc:0.906951\n",
      "[284]\tvalidation_0-auc:0.907041\n",
      "[285]\tvalidation_0-auc:0.90702\n",
      "[286]\tvalidation_0-auc:0.907015\n",
      "[287]\tvalidation_0-auc:0.907019\n",
      "[288]\tvalidation_0-auc:0.906989\n",
      "[289]\tvalidation_0-auc:0.907054\n",
      "[290]\tvalidation_0-auc:0.907044\n",
      "[291]\tvalidation_0-auc:0.907075\n",
      "[292]\tvalidation_0-auc:0.907132\n",
      "[293]\tvalidation_0-auc:0.907135\n",
      "[294]\tvalidation_0-auc:0.907075\n",
      "[295]\tvalidation_0-auc:0.907093\n",
      "[296]\tvalidation_0-auc:0.907095\n",
      "[297]\tvalidation_0-auc:0.907046\n",
      "[298]\tvalidation_0-auc:0.907024\n",
      "[299]\tvalidation_0-auc:0.906978\n",
      "[300]\tvalidation_0-auc:0.906999\n",
      "[301]\tvalidation_0-auc:0.907076\n",
      "[302]\tvalidation_0-auc:0.907051\n",
      "[303]\tvalidation_0-auc:0.907212\n",
      "[304]\tvalidation_0-auc:0.907096\n",
      "[305]\tvalidation_0-auc:0.907013\n",
      "[306]\tvalidation_0-auc:0.906999\n",
      "[307]\tvalidation_0-auc:0.90699\n",
      "[308]\tvalidation_0-auc:0.907064\n",
      "[309]\tvalidation_0-auc:0.907075\n",
      "[310]\tvalidation_0-auc:0.907067\n",
      "[311]\tvalidation_0-auc:0.907014\n",
      "[312]\tvalidation_0-auc:0.90707\n",
      "[313]\tvalidation_0-auc:0.907048\n",
      "[314]\tvalidation_0-auc:0.907238\n",
      "[315]\tvalidation_0-auc:0.907218\n",
      "[316]\tvalidation_0-auc:0.907118\n",
      "[317]\tvalidation_0-auc:0.907121\n",
      "[318]\tvalidation_0-auc:0.907179\n",
      "[319]\tvalidation_0-auc:0.907201\n",
      "[320]\tvalidation_0-auc:0.907206\n",
      "[321]\tvalidation_0-auc:0.907246\n",
      "[322]\tvalidation_0-auc:0.907263\n",
      "[323]\tvalidation_0-auc:0.907274\n",
      "[324]\tvalidation_0-auc:0.907304\n",
      "[325]\tvalidation_0-auc:0.907303\n",
      "[326]\tvalidation_0-auc:0.907296\n",
      "[327]\tvalidation_0-auc:0.907255\n",
      "[328]\tvalidation_0-auc:0.907249\n",
      "[329]\tvalidation_0-auc:0.907353\n",
      "[330]\tvalidation_0-auc:0.907345\n",
      "[331]\tvalidation_0-auc:0.907365\n",
      "[332]\tvalidation_0-auc:0.907347\n",
      "[333]\tvalidation_0-auc:0.907354\n",
      "[334]\tvalidation_0-auc:0.907286\n",
      "[335]\tvalidation_0-auc:0.907263\n",
      "[336]\tvalidation_0-auc:0.907265\n",
      "[337]\tvalidation_0-auc:0.907499\n",
      "[338]\tvalidation_0-auc:0.907552\n",
      "[339]\tvalidation_0-auc:0.907549\n",
      "[340]\tvalidation_0-auc:0.907502\n",
      "[341]\tvalidation_0-auc:0.907482\n",
      "[342]\tvalidation_0-auc:0.90746\n",
      "[343]\tvalidation_0-auc:0.907455\n",
      "[344]\tvalidation_0-auc:0.907439\n",
      "[345]\tvalidation_0-auc:0.907411\n",
      "[346]\tvalidation_0-auc:0.907413\n",
      "[347]\tvalidation_0-auc:0.907446\n",
      "[348]\tvalidation_0-auc:0.907459\n",
      "[349]\tvalidation_0-auc:0.907328\n",
      "[350]\tvalidation_0-auc:0.907298\n",
      "[351]\tvalidation_0-auc:0.907304\n",
      "[352]\tvalidation_0-auc:0.907371\n",
      "[353]\tvalidation_0-auc:0.907386\n",
      "[354]\tvalidation_0-auc:0.907393\n",
      "[355]\tvalidation_0-auc:0.907513\n",
      "[356]\tvalidation_0-auc:0.907443\n",
      "[357]\tvalidation_0-auc:0.907437\n",
      "[358]\tvalidation_0-auc:0.907337\n",
      "[359]\tvalidation_0-auc:0.907449\n",
      "[360]\tvalidation_0-auc:0.907601\n",
      "[361]\tvalidation_0-auc:0.907586\n",
      "[362]\tvalidation_0-auc:0.907582\n",
      "[363]\tvalidation_0-auc:0.907581\n",
      "[364]\tvalidation_0-auc:0.907644\n",
      "[365]\tvalidation_0-auc:0.907725\n",
      "[366]\tvalidation_0-auc:0.907734\n",
      "[367]\tvalidation_0-auc:0.907706\n",
      "[368]\tvalidation_0-auc:0.907702\n",
      "[369]\tvalidation_0-auc:0.907781\n",
      "[370]\tvalidation_0-auc:0.907808\n",
      "[371]\tvalidation_0-auc:0.907752\n",
      "[372]\tvalidation_0-auc:0.907761\n",
      "[373]\tvalidation_0-auc:0.907785\n",
      "[374]\tvalidation_0-auc:0.907792\n",
      "[375]\tvalidation_0-auc:0.907775\n",
      "[376]\tvalidation_0-auc:0.907842\n",
      "[377]\tvalidation_0-auc:0.907845\n",
      "[378]\tvalidation_0-auc:0.907813\n",
      "[379]\tvalidation_0-auc:0.907778\n",
      "[380]\tvalidation_0-auc:0.907821\n",
      "[381]\tvalidation_0-auc:0.907777\n",
      "[382]\tvalidation_0-auc:0.907787\n",
      "[383]\tvalidation_0-auc:0.907879\n",
      "[384]\tvalidation_0-auc:0.907899\n",
      "[385]\tvalidation_0-auc:0.907899\n",
      "[386]\tvalidation_0-auc:0.907801\n",
      "[387]\tvalidation_0-auc:0.907866\n",
      "[388]\tvalidation_0-auc:0.907785\n",
      "[389]\tvalidation_0-auc:0.907683\n",
      "[390]\tvalidation_0-auc:0.907679\n",
      "[391]\tvalidation_0-auc:0.907694\n",
      "[392]\tvalidation_0-auc:0.907681\n",
      "[393]\tvalidation_0-auc:0.907698\n",
      "[394]\tvalidation_0-auc:0.907742\n",
      "[395]\tvalidation_0-auc:0.90771\n",
      "[396]\tvalidation_0-auc:0.907629\n",
      "[397]\tvalidation_0-auc:0.90767\n",
      "[398]\tvalidation_0-auc:0.907678\n",
      "[399]\tvalidation_0-auc:0.907717\n",
      "[400]\tvalidation_0-auc:0.907658\n",
      "[401]\tvalidation_0-auc:0.907714\n",
      "[402]\tvalidation_0-auc:0.907688\n",
      "[403]\tvalidation_0-auc:0.907771\n",
      "[404]\tvalidation_0-auc:0.907831\n",
      "[405]\tvalidation_0-auc:0.907799\n",
      "[406]\tvalidation_0-auc:0.907753\n",
      "[407]\tvalidation_0-auc:0.907641\n",
      "[408]\tvalidation_0-auc:0.907639\n",
      "[409]\tvalidation_0-auc:0.907617\n",
      "[410]\tvalidation_0-auc:0.907687\n",
      "[411]\tvalidation_0-auc:0.907701\n",
      "[412]\tvalidation_0-auc:0.907696\n",
      "[413]\tvalidation_0-auc:0.907651\n",
      "[414]\tvalidation_0-auc:0.907646\n",
      "[415]\tvalidation_0-auc:0.907708\n",
      "[416]\tvalidation_0-auc:0.907645\n",
      "[417]\tvalidation_0-auc:0.907603\n",
      "[418]\tvalidation_0-auc:0.907695\n",
      "[419]\tvalidation_0-auc:0.90775\n",
      "[420]\tvalidation_0-auc:0.907733\n",
      "[421]\tvalidation_0-auc:0.907731\n",
      "[422]\tvalidation_0-auc:0.907709\n",
      "[423]\tvalidation_0-auc:0.907704\n",
      "[424]\tvalidation_0-auc:0.907729\n",
      "[425]\tvalidation_0-auc:0.907741\n",
      "[426]\tvalidation_0-auc:0.907814\n",
      "[427]\tvalidation_0-auc:0.907788\n",
      "[428]\tvalidation_0-auc:0.907844\n",
      "[429]\tvalidation_0-auc:0.907827\n",
      "[430]\tvalidation_0-auc:0.907765\n",
      "[431]\tvalidation_0-auc:0.907753\n",
      "[432]\tvalidation_0-auc:0.90773\n",
      "[433]\tvalidation_0-auc:0.907731\n",
      "[434]\tvalidation_0-auc:0.907796\n",
      "[435]\tvalidation_0-auc:0.907795\n",
      "[436]\tvalidation_0-auc:0.907806\n",
      "[437]\tvalidation_0-auc:0.907752\n",
      "[438]\tvalidation_0-auc:0.907798\n",
      "[439]\tvalidation_0-auc:0.90776\n",
      "[440]\tvalidation_0-auc:0.907686\n",
      "[441]\tvalidation_0-auc:0.907694\n",
      "[442]\tvalidation_0-auc:0.907703\n",
      "[443]\tvalidation_0-auc:0.907704\n",
      "[444]\tvalidation_0-auc:0.907621\n",
      "[445]\tvalidation_0-auc:0.907617\n",
      "[446]\tvalidation_0-auc:0.907614\n",
      "[447]\tvalidation_0-auc:0.90762\n",
      "[448]\tvalidation_0-auc:0.907557\n",
      "[449]\tvalidation_0-auc:0.907552\n",
      "[450]\tvalidation_0-auc:0.907545\n",
      "[451]\tvalidation_0-auc:0.907548\n",
      "[452]\tvalidation_0-auc:0.907462\n",
      "[453]\tvalidation_0-auc:0.907662\n",
      "[454]\tvalidation_0-auc:0.907696\n",
      "[455]\tvalidation_0-auc:0.90767\n",
      "[456]\tvalidation_0-auc:0.907595\n",
      "[457]\tvalidation_0-auc:0.907612\n",
      "[458]\tvalidation_0-auc:0.907592\n",
      "[459]\tvalidation_0-auc:0.90758\n",
      "[460]\tvalidation_0-auc:0.907508\n",
      "[461]\tvalidation_0-auc:0.90752\n",
      "[462]\tvalidation_0-auc:0.90739\n",
      "[463]\tvalidation_0-auc:0.907368\n",
      "[464]\tvalidation_0-auc:0.907392\n",
      "[465]\tvalidation_0-auc:0.907441\n",
      "[466]\tvalidation_0-auc:0.907444\n",
      "[467]\tvalidation_0-auc:0.907431\n",
      "[468]\tvalidation_0-auc:0.907406\n",
      "[469]\tvalidation_0-auc:0.907454\n",
      "[470]\tvalidation_0-auc:0.907423\n",
      "[471]\tvalidation_0-auc:0.907318\n",
      "[472]\tvalidation_0-auc:0.907299\n",
      "[473]\tvalidation_0-auc:0.907265\n",
      "[474]\tvalidation_0-auc:0.907187\n",
      "[475]\tvalidation_0-auc:0.907157\n",
      "[476]\tvalidation_0-auc:0.907098\n",
      "[477]\tvalidation_0-auc:0.907195\n",
      "[478]\tvalidation_0-auc:0.90729\n",
      "[479]\tvalidation_0-auc:0.907242\n",
      "[480]\tvalidation_0-auc:0.907297\n",
      "[481]\tvalidation_0-auc:0.907299\n",
      "[482]\tvalidation_0-auc:0.9073\n",
      "[483]\tvalidation_0-auc:0.907318\n",
      "[484]\tvalidation_0-auc:0.907291\n",
      "Stopping. Best iteration:\n",
      "[384]\tvalidation_0-auc:0.907899\n",
      "\n"
     ]
    }
   ],
   "source": [
    "XGB.fit(X_train, y_train, eval_metric=\"auc\", eval_set=[(X_valid, y_valid)], early_stopping_rounds=100)\n",
    "y_valid_score = XGB.predict_proba(X_valid)"
   ]
  },
  {
   "cell_type": "code",
   "execution_count": 191,
   "metadata": {},
   "outputs": [
    {
     "data": {
      "text/plain": [
       "0.96053677161580464"
      ]
     },
     "execution_count": 191,
     "metadata": {},
     "output_type": "execute_result"
    }
   ],
   "source": [
    "roc_auc_score(y_train, XGB.predict_proba(X_train)[:,1]) "
   ]
  },
  {
   "cell_type": "code",
   "execution_count": 192,
   "metadata": {},
   "outputs": [
    {
     "data": {
      "text/plain": [
       "0.90729097805856362"
      ]
     },
     "execution_count": 192,
     "metadata": {},
     "output_type": "execute_result"
    }
   ],
   "source": [
    "roc_auc_score(y_valid, y_valid_score[:,1]) "
   ]
  },
  {
   "cell_type": "markdown",
   "metadata": {},
   "source": [
    "### 計算測資結果"
   ]
  },
  {
   "cell_type": "code",
   "execution_count": 193,
   "metadata": {},
   "outputs": [],
   "source": [
    "X_test = test_norm.copy()\n",
    "y_test_score = XGB.predict_proba(X_test)\n",
    "test_out = pd.DataFrame.from_dict({\n",
    "    \"FileID\": test[\"FileID\"],\n",
    "    \"Probability\": y_test_score[:,1]\n",
    "})\n",
    "test_out.to_csv('submission.csv', index=False)"
   ]
  },
  {
   "cell_type": "markdown",
   "metadata": {},
   "source": [
    "### 聚合函數\n",
    "count（個數）, sum（加總）, mean（平均）, median（中位數）, std（標準差）, var（變異數）, first（第一個非NA）, last（最後一個非NA）"
   ]
  },
  {
   "cell_type": "code",
   "execution_count": 113,
   "metadata": {},
   "outputs": [],
   "source": [
    "# querys.groupby(['FileID','CustomerID','ProductID'])[['times']].sum()"
   ]
  },
  {
   "cell_type": "markdown",
   "metadata": {},
   "source": [
    "### 其它會用到的工具"
   ]
  },
  {
   "cell_type": "code",
   "execution_count": 114,
   "metadata": {},
   "outputs": [
    {
     "data": {
      "text/plain": [
       "0.625"
      ]
     },
     "execution_count": 114,
     "metadata": {},
     "output_type": "execute_result"
    }
   ],
   "source": [
    "#AUC計算範例\n",
    "import numpy as np\n",
    "from sklearn import metrics\n",
    "y = np.array([1, 1, 2, 2])\n",
    "pred = np.array([0.9, 0.1, 0.7, 0.9])\n",
    "fpr, tpr, thresholds = metrics.roc_curve(y, pred, pos_label=2)\n",
    "metrics.auc(fpr, tpr)\n"
   ]
  },
  {
   "cell_type": "code",
   "execution_count": null,
   "metadata": {},
   "outputs": [],
   "source": [
    "#timestamp轉換\n",
    "import datetime\n",
    "print(\n",
    "    datetime.datetime.fromtimestamp(\n",
    "        int(\"1488326402\")\n",
    "    ).strftime('%Y-%m-%d %H:%M:%S'))\n"
   ]
  },
  {
   "cell_type": "code",
   "execution_count": null,
   "metadata": {
    "collapsed": true
   },
   "outputs": [],
   "source": [
    "querys.pivot_table(values='QueryTs', index='FileID', columns='ProductID').head()"
   ]
  },
  {
   "cell_type": "code",
   "execution_count": null,
   "metadata": {},
   "outputs": [],
   "source": [
    "time_list = querys.loc[(querys['FileID']=='0000e2398b12121a85166fed5fe2a3da') & (querys['ProductID']=='055649')][['QueryTs']]"
   ]
  },
  {
   "cell_type": "code",
   "execution_count": null,
   "metadata": {},
   "outputs": [],
   "source": [
    "time_list.values"
   ]
  },
  {
   "cell_type": "code",
   "execution_count": null,
   "metadata": {},
   "outputs": [],
   "source": []
  }
 ],
 "metadata": {
  "kernelspec": {
   "display_name": "Python 3",
   "language": "python",
   "name": "python3"
  },
  "language_info": {
   "codemirror_mode": {
    "name": "ipython",
    "version": 3
   },
   "file_extension": ".py",
   "mimetype": "text/x-python",
   "name": "python",
   "nbconvert_exporter": "python",
   "pygments_lexer": "ipython3",
   "version": "3.6.3"
  }
 },
 "nbformat": 4,
 "nbformat_minor": 2
}
